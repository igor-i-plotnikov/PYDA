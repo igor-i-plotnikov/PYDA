{
 "cells": [
  {
   "cell_type": "markdown",
   "metadata": {},
   "source": [
    "**Задание 1.** Напишите функцию, которая принимает на вход строку и проверяет является ли она валидным транспортным номером. Если да, то функция должна возвращать отдельно номер и регион."
   ]
  },
  {
   "cell_type": "code",
   "execution_count": 46,
   "metadata": {},
   "outputs": [
    {
     "name": "stdout",
     "output_type": "stream",
     "text": [
      "('Е555ЕЕ', '63')\n"
     ]
    }
   ],
   "source": [
    "import re\n",
    "some_string = 'Е555ЕЕ63'\n",
    "\n",
    "\n",
    "def check_autonumber(autonumber):    \n",
    "    regex_autonumber = r'(^[АВЕКМНОРСТУХ])\\s*(\\d{3})\\s*([АВЕКМНОРСТУХ]{2})\\s*(\\d{2,3}$)'\n",
    "    output = re.fullmatch(regex_autonumber, autonumber.strip())\n",
    "    if output: return (''.join(output.group(1,2,3)),output.group(4))\n",
    "    \n",
    "print(check_autonumber(some_string))"
   ]
  },
  {
   "cell_type": "markdown",
   "metadata": {},
   "source": [
    "**Задание 2**. Постарайтесь написать (в крайнем случае найти) самый полный шаблон для проверки e-mail адресов через регулярное выражение, которая проверяет e-mail адрес на валидность. Можно руководствоваться следующими минимальными требованиями:\n",
    "* адрес должен содержать специальный символ \"@\", который отделяет имя пользователя почтовой системы от доменного имени;\n",
    "* адрес не должен содержать следующие символы: \"пробел\", \",\", \":\", \";\", \"!\", \"#\", \"%\", \"*\", \"(\", \")\", \"=\", \"+\", \"{\", \"}\", \" \" \", \" ' \", \" / \", \" \\ \" и \"|\";\n",
    "* адрес должен состоять только из латинских символов;\n",
    "* после символа \"@\" должна быть как минимум одна \".\";\n",
    "* после последней точки должно быть не менее 2-х и не более 4-х символов, причем наличие цифр не допускается;\n",
    "* между последней точкой и символом \"@\" должно быть не менее 2-х символов\n",
    "* слева от \"@\" должно быть не менее четырех символов\n"
   ]
  },
  {
   "cell_type": "code",
   "execution_count": 59,
   "metadata": {},
   "outputs": [
    {
     "name": "stdout",
     "output_type": "stream",
     "text": [
      "True\n",
      "False\n"
     ]
    }
   ],
   "source": [
    "email = 'slveselov63@yandex.ru'\n",
    "non_email = 'slveselov.yandex@ru'\n",
    "\n",
    "def check_email(email):    \n",
    "    regex_email = r'''(?:[a-z0-9!#$%&'*+/=?^_`{|}~-]+(?:\\.[a-z0-9!#$%&'*+/=?^_`{|}~-]+)*|\"(?:[\\x01-\\x08\\x0b\\x0c\\x0e-\\x1f\\x21\\x23-\\x5b\\x5d-\\x7f]|\\\\[\\x01-\\x09\\x0b\\x0c\\x0e-\\x7f])*\")@(?:(?:[a-z0-9](?:[a-z0-9-]*[a-z0-9])?\\.)+[a-z0-9](?:[a-z0-9-]*[a-z0-9])?|\\[(?:(?:25[0-5]|2[0-4][0-9]|[01]?[0-9][0-9]?)\\.){3}(?:25[0-5]|2[0-4][0-9]|[01]?[0-9][0-9]?|[a-z0-9-]*[a-z0-9]:(?:[\\x01-\\x08\\x0b\\x0c\\x0e-\\x1f\\x21-\\x5a\\x53-\\x7f]|\\\\[\\x01-\\x09\\x0b\\x0c\\x0e-\\x7f])+)\\])'''\n",
    "    output = re.fullmatch(regex_email, email.strip())\n",
    "    return True if output else False\n",
    "\n",
    "print(check_email(email))\n",
    "print(check_email(non_email))"
   ]
  },
  {
   "cell_type": "markdown",
   "metadata": {},
   "source": [
    "**Задание 3.** Напишите функцию, которая будет удалять все последовательные повторы слов из заданной строки при помощи регулярных выражений."
   ]
  },
  {
   "cell_type": "code",
   "execution_count": 79,
   "metadata": {},
   "outputs": [
    {
     "name": "stdout",
     "output_type": "stream",
     "text": [
      "снег дождь черный диван кровать окно ковер узор родина мама любовь окно\n"
     ]
    }
   ],
   "source": [
    "string = 'снег дождь черный черный диван кровать окно окно ковер узор родина мама любовь любовь окно окно'\n",
    "\n",
    "def clean_from_dupl(string):\n",
    "    clean_string = re.sub(r'\\b(\\w+)\\W+\\1\\b', r'\\1', string)\n",
    "    return clean_string\n",
    "\n",
    "print(clean_from_dupl(string))"
   ]
  },
  {
   "cell_type": "markdown",
   "metadata": {},
   "source": [
    "**Задание 4**. Напишите функцию, которая будет проверять номер сотового телефона на валидность, если он валиден, то переводить его в формат:   \n",
    "+7(xxx)-xxx-xx-xx  \n",
    "Постарайтесь предусмотреть как можно больше адекватных форматов изначального ввода номера.\n",
    "Примеры валидных форматов:\n",
    "- +7 955 555-55-55;\n",
    "- 9555555555;\n",
    "- 8(955)555-55-55;\n",
    "- +7 955 555 55 55;\n",
    "- 7(955) 555-55-55;\n",
    "- +7 955+555+55+55."
   ]
  },
  {
   "cell_type": "code",
   "execution_count": 94,
   "metadata": {},
   "outputs": [
    {
     "name": "stdout",
     "output_type": "stream",
     "text": [
      "+7(955)-555-55-55\n",
      "+7(955)-555-55-55\n",
      "+7(955)-555-55-55\n",
      "+7(955)-555-55-55\n",
      "+7(955)-555-55-55\n",
      "+7(955)-555-55-55\n"
     ]
    }
   ],
   "source": [
    "numbers_list = ['+7 955 555-55-55',\n",
    "                '9555555555',\n",
    "                '8(955)555-55-55',\n",
    "                '+7 955 555 55 55',\n",
    "                '7(955) 555-55-55',\n",
    "                '+7 955+555+55+55'\n",
    "]\n",
    "\n",
    "r'^\\+?1?\\d{9,15}$'\n",
    "\n",
    "def get_uniq_format_number(string):\n",
    "    uniq_formart = re.sub(r'^\\D?\\d?\\D*(\\w{3})\\D*(\\w{3})\\D*(\\w{2})\\D*(\\w{2})$', r'+7(\\1)-\\2-\\3-\\4', string)\n",
    "    return uniq_formart\n",
    "\n",
    "for number in numbers_list:\n",
    "    print(get_uniq_format_number(number))"
   ]
  }
 ],
 "metadata": {
  "kernelspec": {
   "display_name": "Python 3",
   "language": "python",
   "name": "python3"
  },
  "language_info": {
   "codemirror_mode": {
    "name": "ipython",
    "version": 3
   },
   "file_extension": ".py",
   "mimetype": "text/x-python",
   "name": "python",
   "nbconvert_exporter": "python",
   "pygments_lexer": "ipython3",
   "version": "3.8.0"
  }
 },
 "nbformat": 4,
 "nbformat_minor": 2
}
